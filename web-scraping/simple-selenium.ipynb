{
 "cells": [
  {
   "cell_type": "markdown",
   "id": "57706fd8",
   "metadata": {},
   "source": [
    "## Get company, date and body text data\n",
    "\n",
    "Site: https://www.biopharmcatalyst.com/company/ABBV/news\n",
    "\n",
    "Notes: site included new windows to switch to."
   ]
  },
  {
   "cell_type": "code",
   "execution_count": 1,
   "id": "9b411c26",
   "metadata": {},
   "outputs": [],
   "source": [
    "from selenium import webdriver\n",
    "from selenium.webdriver.support.ui import WebDriverWait\n",
    "from selenium.webdriver.chrome.options import Options\n",
    "from webdriver_manager.chrome import ChromeDriverManager\n",
    "options = Options()\n",
    "options.add_argument(\"--headless\")"
   ]
  },
  {
   "cell_type": "code",
   "execution_count": 2,
   "id": "864ab661",
   "metadata": {},
   "outputs": [
    {
     "name": "stderr",
     "output_type": "stream",
     "text": [
      "\n",
      "\n",
      "====== WebDriver manager ======\n",
      "Current google-chrome version is 94.0.4606\n",
      "Get LATEST driver version for 94.0.4606\n",
      "Get LATEST driver version for 94.0.4606\n",
      "Trying to download new driver from https://chromedriver.storage.googleapis.com/94.0.4606.61/chromedriver_win32.zip\n",
      "Driver has been saved in cache [C:\\Users\\TzeMin\\.wdm\\drivers\\chromedriver\\win32\\94.0.4606.61]\n"
     ]
    }
   ],
   "source": [
    "driver = webdriver.Chrome(ChromeDriverManager().install(), options=options)\n",
    "\n",
    "url = \"https://www.biopharmcatalyst.com/company/ABBV/news\"\n",
    "driver.get(url)\n",
    "parent_window = driver.current_window_handle\n",
    "links = driver.find_elements_by_class_name(\"news-item__link\")\n",
    "\n",
    "res = list()\n",
    "\n",
    "for link in links[:5]:\n",
    "    link.click()\n",
    "    new_window = driver.window_handles[1]\n",
    "    driver.switch_to.window(new_window)\n",
    "    \n",
    "    date = driver.find_element_by_class_name(\"date\")\n",
    "    datetext = date.get_attribute(\"innerHTML\").strip()\n",
    "    \n",
    "    body = driver.find_elements_by_xpath('//*[@xmlns=\"http://www.w3.org/1999/xhtml\"]')[1:]\n",
    "    bodytext = map(lambda e: e.text, body)\n",
    "    fulltext = \" \"\n",
    "    fulltext = \" \".join(bodytext).strip()\n",
    "    \n",
    "    driver.close()\n",
    "    driver.switch_to.window(parent_window)\n",
    "    \n",
    "    res.append([\"ABBV\", datetext, fulltext])"
   ]
  },
  {
   "cell_type": "code",
   "execution_count": 4,
   "id": "757cc040",
   "metadata": {},
   "outputs": [
    {
     "data": {
      "text/html": [
       "<div>\n",
       "<style scoped>\n",
       "    .dataframe tbody tr th:only-of-type {\n",
       "        vertical-align: middle;\n",
       "    }\n",
       "\n",
       "    .dataframe tbody tr th {\n",
       "        vertical-align: top;\n",
       "    }\n",
       "\n",
       "    .dataframe thead th {\n",
       "        text-align: right;\n",
       "    }\n",
       "</style>\n",
       "<table border=\"1\" class=\"dataframe\">\n",
       "  <thead>\n",
       "    <tr style=\"text-align: right;\">\n",
       "      <th></th>\n",
       "      <th>Company</th>\n",
       "      <th>Date</th>\n",
       "      <th>Text</th>\n",
       "    </tr>\n",
       "  </thead>\n",
       "  <tbody>\n",
       "    <tr>\n",
       "      <th>0</th>\n",
       "      <td>ABBV</td>\n",
       "      <td>October 11, 2021 8:42am</td>\n",
       "      <td>IRVINE, Calif., Oct. 11, 2021 /PRNewswire/ -- ...</td>\n",
       "    </tr>\n",
       "    <tr>\n",
       "      <th>1</th>\n",
       "      <td>ABBV</td>\n",
       "      <td>October 07, 2021 1:22pm</td>\n",
       "      <td>Authorization is based on the results from thr...</td>\n",
       "    </tr>\n",
       "    <tr>\n",
       "      <th>2</th>\n",
       "      <td>ABBV</td>\n",
       "      <td>October 07, 2021 8:16am</td>\n",
       "      <td>NORTH CHICAGO, Ill., Oct. 7, 2021 /PRNewswire/...</td>\n",
       "    </tr>\n",
       "    <tr>\n",
       "      <th>3</th>\n",
       "      <td>ABBV</td>\n",
       "      <td>October 07, 2021 8:15am</td>\n",
       "      <td>NORTH CHICAGO, Ill., Oct. 7, 2021 /PRNewswire/...</td>\n",
       "    </tr>\n",
       "    <tr>\n",
       "      <th>4</th>\n",
       "      <td>ABBV</td>\n",
       "      <td>October 06, 2021 8:00am</td>\n",
       "      <td>VANCOUVER, BC, Oct. 6, 2021 /CNW/ - Clairvoyan...</td>\n",
       "    </tr>\n",
       "  </tbody>\n",
       "</table>\n",
       "</div>"
      ],
      "text/plain": [
       "  Company                     Date  \\\n",
       "0    ABBV  October 11, 2021 8:42am   \n",
       "1    ABBV  October 07, 2021 1:22pm   \n",
       "2    ABBV  October 07, 2021 8:16am   \n",
       "3    ABBV  October 07, 2021 8:15am   \n",
       "4    ABBV  October 06, 2021 8:00am   \n",
       "\n",
       "                                                Text  \n",
       "0  IRVINE, Calif., Oct. 11, 2021 /PRNewswire/ -- ...  \n",
       "1  Authorization is based on the results from thr...  \n",
       "2  NORTH CHICAGO, Ill., Oct. 7, 2021 /PRNewswire/...  \n",
       "3  NORTH CHICAGO, Ill., Oct. 7, 2021 /PRNewswire/...  \n",
       "4  VANCOUVER, BC, Oct. 6, 2021 /CNW/ - Clairvoyan...  "
      ]
     },
     "execution_count": 4,
     "metadata": {},
     "output_type": "execute_result"
    }
   ],
   "source": [
    "import pandas as pd\n",
    "data = pd.DataFrame.from_records(res, columns = [\"Company\", \"Date\", \"Text\"])\n",
    "data.head(5)"
   ]
  }
 ],
 "metadata": {
  "kernelspec": {
   "display_name": "Python 3 (ipykernel)",
   "language": "python",
   "name": "python3"
  },
  "language_info": {
   "codemirror_mode": {
    "name": "ipython",
    "version": 3
   },
   "file_extension": ".py",
   "mimetype": "text/x-python",
   "name": "python",
   "nbconvert_exporter": "python",
   "pygments_lexer": "ipython3",
   "version": "3.9.5"
  }
 },
 "nbformat": 4,
 "nbformat_minor": 5
}
